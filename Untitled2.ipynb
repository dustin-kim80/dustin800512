{
  "nbformat": 4,
  "nbformat_minor": 0,
  "metadata": {
    "colab": {
      "name": "Untitled2.ipynb",
      "provenance": [],
      "authorship_tag": "ABX9TyPCqAQDhQtRGiP76uXIvOT2",
      "include_colab_link": true
    },
    "kernelspec": {
      "name": "python3",
      "display_name": "Python 3"
    }
  },
  "cells": [
    {
      "cell_type": "markdown",
      "metadata": {
        "id": "view-in-github",
        "colab_type": "text"
      },
      "source": [
        "<a href=\"https://colab.research.google.com/github/dustin-kim80/dustin800512/blob/master/Untitled2.ipynb\" target=\"_parent\"><img src=\"https://colab.research.google.com/assets/colab-badge.svg\" alt=\"Open In Colab\"/></a>"
      ]
    },
    {
      "cell_type": "code",
      "metadata": {
        "id": "v3H2ekeYN-vf",
        "colab_type": "code",
        "colab": {
          "base_uri": "https://localhost:8080/",
          "height": 50
        },
        "outputId": "05929e7f-24ac-4e9b-f7c2-7aab2f94fef7"
      },
      "source": [
        "x = input()\n",
        "if x == \"사랑해\":\n",
        "  print(\"나두사랑해\")\n",
        "elif x == \"떠나줘\":\n",
        "  print (\"싫어\")\n",
        "else:\n",
        "  print(\"꺼져\")"
      ],
      "execution_count": 18,
      "outputs": [
        {
          "output_type": "stream",
          "text": [
            "너 뭐니\n",
            "꺼져\n"
          ],
          "name": "stdout"
        }
      ]
    }
  ]
}