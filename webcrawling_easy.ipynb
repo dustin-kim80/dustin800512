{
  "nbformat": 4,
  "nbformat_minor": 0,
  "metadata": {
    "colab": {
      "name": "webcrawling_easy.ipynb",
      "provenance": [],
      "authorship_tag": "ABX9TyNWCk6pMMZFKDm0ZP/OuDJ8",
      "include_colab_link": true
    },
    "kernelspec": {
      "name": "python3",
      "display_name": "Python 3"
    },
    "language_info": {
      "name": "python"
    }
  },
  "cells": [
    {
      "cell_type": "markdown",
      "metadata": {
        "id": "view-in-github",
        "colab_type": "text"
      },
      "source": [
        "<a href=\"https://colab.research.google.com/github/dustin-kim80/dustin800512/blob/master/webcrawling_easy.ipynb\" target=\"_parent\"><img src=\"https://colab.research.google.com/assets/colab-badge.svg\" alt=\"Open In Colab\"/></a>"
      ]
    },
    {
      "cell_type": "code",
      "metadata": {
        "id": "ONUaN_8_15XR"
      },
      "source": [
        "import requests\n",
        "from bs4 import BeautifulSoup"
      ],
      "execution_count": null,
      "outputs": []
    },
    {
      "cell_type": "code",
      "metadata": {
        "id": "4MIMe6fU7BGt"
      },
      "source": [
        "request = requests.get('https://search.naver.com/search.naver?where=nexearch&sm=top_hty&fbm=1&ie=utf8&query=%EC%A4%91%EA%B3%A0%EC%B0%A8')\n",
        "html = request.text\n",
        "\n",
        "soup = BeautifulSoup(html, 'html.parser')\n",
        "links = soup.select('td > a')\n",
        "\n",
        "for link in links:\n",
        "    if link.has_attr('href'):\n",
        "      if link.get('href').find('mark') != -1:\n",
        "\n",
        "        print(link.text)"
      ],
      "execution_count": null,
      "outputs": []
    }
  ]
}