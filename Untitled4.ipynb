{
  "nbformat": 4,
  "nbformat_minor": 0,
  "metadata": {
    "colab": {
      "name": "Untitled4.ipynb",
      "provenance": [],
      "authorship_tag": "ABX9TyMdButduTB3k16U0Lwm+J40",
      "include_colab_link": true
    },
    "kernelspec": {
      "name": "python3",
      "display_name": "Python 3"
    }
  },
  "cells": [
    {
      "cell_type": "markdown",
      "metadata": {
        "id": "view-in-github",
        "colab_type": "text"
      },
      "source": [
        "<a href=\"https://colab.research.google.com/github/dustin-kim80/dustin800512/blob/master/Untitled4.ipynb\" target=\"_parent\"><img src=\"https://colab.research.google.com/assets/colab-badge.svg\" alt=\"Open In Colab\"/></a>"
      ]
    },
    {
      "cell_type": "code",
      "metadata": {
        "id": "ygJBuYSIJgho",
        "colab_type": "code",
        "colab": {
          "base_uri": "https://localhost:8080/",
          "height": 924
        },
        "outputId": "e5e45c19-d110-46b4-bdd5-12e93a2a68a0"
      },
      "source": [
        "import numpy as np\n",
        "\n",
        "x_train = np.array([1., 2., 3., 4., 5., 6.])\n",
        "y_train = np.array([9., 16., 23., 30., 37., 44.])\n",
        "\n",
        "W = 0.0\n",
        "b = 0.0\n",
        "\n",
        "n_data = len(x_train)\n",
        "\n",
        "epochs = 5000\n",
        "learning_rate = 0.01\n",
        "\n",
        "for i in range(epochs):\n",
        "    hypothesis = x_train * W + b\n",
        "    cost = np.sum((hypothesis - y_train) ** 2) / n_data\n",
        "    gradient_w = np.sum((W * x_train - y_train + b) * 2 * x_train) / n_data\n",
        "    gradient_b = np.sum((W * x_train - y_train + b) * 2) / n_data\n",
        "\n",
        "    W -= learning_rate * gradient_w\n",
        "    b -= learning_rate * gradient_b\n",
        "\n",
        "    if i % 100 == 0:\n",
        "        print('Epoch ({:10d}/{:10d}) cost: {:10f}, W: {:10f}, b:{:10f}'.format(i, epochs, cost, W, b))\n",
        "\n",
        "print('W: {:10f}'.format(W))\n",
        "print('b: {:10f}'.format(b))\n",
        "print('result : ')\n",
        "print(x_train * W + b)"
      ],
      "execution_count": 2,
      "outputs": [
        {
          "output_type": "stream",
          "text": [
            "Epoch (         0/      5000) cost: 845.166667, W:   2.263333, b:  0.530000\n",
            "Epoch (       100/      5000) cost:   0.011092, W:   7.055875, b:  1.760787\n",
            "Epoch (       200/      5000) cost:   0.005339, W:   7.038765, b:  1.834041\n",
            "Epoch (       300/      5000) cost:   0.002570, W:   7.026894, b:  1.884862\n",
            "Epoch (       400/      5000) cost:   0.001237, W:   7.018658, b:  1.920121\n",
            "Epoch (       500/      5000) cost:   0.000595, W:   7.012945, b:  1.944582\n",
            "Epoch (       600/      5000) cost:   0.000287, W:   7.008981, b:  1.961552\n",
            "Epoch (       700/      5000) cost:   0.000138, W:   7.006230, b:  1.973326\n",
            "Epoch (       800/      5000) cost:   0.000066, W:   7.004323, b:  1.981494\n",
            "Epoch (       900/      5000) cost:   0.000032, W:   7.002999, b:  1.987161\n",
            "Epoch (      1000/      5000) cost:   0.000015, W:   7.002081, b:  1.991093\n",
            "Epoch (      1100/      5000) cost:   0.000007, W:   7.001443, b:  1.993820\n",
            "Epoch (      1200/      5000) cost:   0.000004, W:   7.001001, b:  1.995713\n",
            "Epoch (      1300/      5000) cost:   0.000002, W:   7.000695, b:  1.997026\n",
            "Epoch (      1400/      5000) cost:   0.000001, W:   7.000482, b:  1.997936\n",
            "Epoch (      1500/      5000) cost:   0.000000, W:   7.000334, b:  1.998568\n",
            "Epoch (      1600/      5000) cost:   0.000000, W:   7.000232, b:  1.999007\n",
            "Epoch (      1700/      5000) cost:   0.000000, W:   7.000161, b:  1.999311\n",
            "Epoch (      1800/      5000) cost:   0.000000, W:   7.000112, b:  1.999522\n",
            "Epoch (      1900/      5000) cost:   0.000000, W:   7.000077, b:  1.999668\n",
            "Epoch (      2000/      5000) cost:   0.000000, W:   7.000054, b:  1.999770\n",
            "Epoch (      2100/      5000) cost:   0.000000, W:   7.000037, b:  1.999840\n",
            "Epoch (      2200/      5000) cost:   0.000000, W:   7.000026, b:  1.999889\n",
            "Epoch (      2300/      5000) cost:   0.000000, W:   7.000018, b:  1.999923\n",
            "Epoch (      2400/      5000) cost:   0.000000, W:   7.000012, b:  1.999947\n",
            "Epoch (      2500/      5000) cost:   0.000000, W:   7.000009, b:  1.999963\n",
            "Epoch (      2600/      5000) cost:   0.000000, W:   7.000006, b:  1.999974\n",
            "Epoch (      2700/      5000) cost:   0.000000, W:   7.000004, b:  1.999982\n",
            "Epoch (      2800/      5000) cost:   0.000000, W:   7.000003, b:  1.999988\n",
            "Epoch (      2900/      5000) cost:   0.000000, W:   7.000002, b:  1.999991\n",
            "Epoch (      3000/      5000) cost:   0.000000, W:   7.000001, b:  1.999994\n",
            "Epoch (      3100/      5000) cost:   0.000000, W:   7.000001, b:  1.999996\n",
            "Epoch (      3200/      5000) cost:   0.000000, W:   7.000001, b:  1.999997\n",
            "Epoch (      3300/      5000) cost:   0.000000, W:   7.000000, b:  1.999998\n",
            "Epoch (      3400/      5000) cost:   0.000000, W:   7.000000, b:  1.999999\n",
            "Epoch (      3500/      5000) cost:   0.000000, W:   7.000000, b:  1.999999\n",
            "Epoch (      3600/      5000) cost:   0.000000, W:   7.000000, b:  1.999999\n",
            "Epoch (      3700/      5000) cost:   0.000000, W:   7.000000, b:  2.000000\n",
            "Epoch (      3800/      5000) cost:   0.000000, W:   7.000000, b:  2.000000\n",
            "Epoch (      3900/      5000) cost:   0.000000, W:   7.000000, b:  2.000000\n",
            "Epoch (      4000/      5000) cost:   0.000000, W:   7.000000, b:  2.000000\n",
            "Epoch (      4100/      5000) cost:   0.000000, W:   7.000000, b:  2.000000\n",
            "Epoch (      4200/      5000) cost:   0.000000, W:   7.000000, b:  2.000000\n",
            "Epoch (      4300/      5000) cost:   0.000000, W:   7.000000, b:  2.000000\n",
            "Epoch (      4400/      5000) cost:   0.000000, W:   7.000000, b:  2.000000\n",
            "Epoch (      4500/      5000) cost:   0.000000, W:   7.000000, b:  2.000000\n",
            "Epoch (      4600/      5000) cost:   0.000000, W:   7.000000, b:  2.000000\n",
            "Epoch (      4700/      5000) cost:   0.000000, W:   7.000000, b:  2.000000\n",
            "Epoch (      4800/      5000) cost:   0.000000, W:   7.000000, b:  2.000000\n",
            "Epoch (      4900/      5000) cost:   0.000000, W:   7.000000, b:  2.000000\n",
            "W:   7.000000\n",
            "b:   2.000000\n",
            "result : \n",
            "[ 9. 16. 23. 30. 37. 44.]\n"
          ],
          "name": "stdout"
        }
      ]
    }
  ]
}